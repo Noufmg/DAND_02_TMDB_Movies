{
 "cells": [
  {
   "cell_type": "markdown",
   "metadata": {},
   "source": [
    "# Project: The Movie Database Analysis\n",
    "\n",
    "## Table of Contents\n",
    "<ul>\n",
    "<li><a href=\"#intro\">Introduction</a></li>\n",
    "<li><a href=\"#wrangling\">Data Wrangling</a></li>\n",
    "    <ul>\n",
    "        <li><a href=\"#properties\">General Properties</a></li>\n",
    "        <li><a href=\"#cleaning\">Data Cleaning</a></li>\n",
    "    </ul>\n",
    "<li><a href=\"#eda\">Exploratory Data Analysis</a></li>\n",
    "    <ul>\n",
    "        <li><a href=\"#question1\">Research Question 1</a></li>\n",
    "        <li><a href=\"#question2\">Research Question 2</a></li>\n",
    "        <li><a href=\"#question3\">Research Question 3</a></li>\n",
    "    </ul>\n",
    "<li><a href=\"#conclusions\">Conclusions</a></li>\n",
    "</ul>\n",
    "\n",
    "<a id='intro'></a>\n",
    "## Introduction\n",
    ">The purpose of this report is to document the steps taken in this project such as inspecting the dataset, cleaning the dataset, analyzing the dataset, visualizing the dataset, and answering the questions. The Movie Database was selected for this project and it contains about 10,000 movies and information related to each movie such as the cast, genre, title, revenue. This report will try to answer the following questions:\n",
    "><ol>\n",
    "    <li><a href=\"#question1\">What properties are associated with popular movies?</a></li>\n",
    "    <li><a href=\"#question2\">Do movies with a higher budget receive better vote average?</a></li>\n",
    "    <li><a href=\"#question3\">Do movies with a lower budget receive lower revenue?</a></li>\n",
    "</ol>"
   ]
  },
  {
   "cell_type": "code",
   "execution_count": 1,
   "metadata": {},
   "outputs": [],
   "source": [
    "# import statements for required libraries\n",
    "import pandas as pd, numpy as np, matplotlib.pyplot as plt, seaborn as sns\n",
    "%matplotlib inline"
   ]
  },
  {
   "cell_type": "markdown",
   "metadata": {},
   "source": [
    "<a id='wrangling'></a>\n",
    "## Data Wrangling\n",
    "\n",
    "<a id='properties'></a>\n",
    "### General Properties"
   ]
  },
  {
   "cell_type": "code",
   "execution_count": 2,
   "metadata": {},
   "outputs": [
    {
     "name": "stdout",
     "output_type": "stream",
     "text": [
      "<class 'pandas.core.frame.DataFrame'>\n",
      "RangeIndex: 10866 entries, 0 to 10865\n",
      "Data columns (total 21 columns):\n",
      "id                      10866 non-null int64\n",
      "imdb_id                 10856 non-null object\n",
      "popularity              10866 non-null float64\n",
      "budget                  10866 non-null int64\n",
      "revenue                 10866 non-null int64\n",
      "original_title          10866 non-null object\n",
      "cast                    10790 non-null object\n",
      "homepage                2936 non-null object\n",
      "director                10822 non-null object\n",
      "tagline                 8042 non-null object\n",
      "keywords                9373 non-null object\n",
      "overview                10862 non-null object\n",
      "runtime                 10866 non-null int64\n",
      "genres                  10843 non-null object\n",
      "production_companies    9836 non-null object\n",
      "release_date            10866 non-null object\n",
      "vote_count              10866 non-null int64\n",
      "vote_average            10866 non-null float64\n",
      "release_year            10866 non-null int64\n",
      "budget_adj              10866 non-null float64\n",
      "revenue_adj             10866 non-null float64\n",
      "dtypes: float64(4), int64(6), object(11)\n",
      "memory usage: 1.7+ MB\n"
     ]
    }
   ],
   "source": [
    "# loading the data into a dataframe\n",
    "df = pd.read_csv('tmdb-movies.csv')\n",
    "# inspecting the data for missing values\n",
    "df.info()\n",
    "#cast, imdb_id, director, genres, homepage, tagline, keywords, overview, production_companies missing values"
   ]
  },
  {
   "cell_type": "markdown",
   "metadata": {},
   "source": [
    ">After loading the dataset it was checked for missing information and the output above shows that the cast, imdb_id, director, genres, homepage, tagline, keywords, overview, and production_companies column have missing values."
   ]
  },
  {
   "cell_type": "code",
   "execution_count": 3,
   "metadata": {},
   "outputs": [
    {
     "data": {
      "text/html": [
       "<div>\n",
       "<style scoped>\n",
       "    .dataframe tbody tr th:only-of-type {\n",
       "        vertical-align: middle;\n",
       "    }\n",
       "\n",
       "    .dataframe tbody tr th {\n",
       "        vertical-align: top;\n",
       "    }\n",
       "\n",
       "    .dataframe thead th {\n",
       "        text-align: right;\n",
       "    }\n",
       "</style>\n",
       "<table border=\"1\" class=\"dataframe\">\n",
       "  <thead>\n",
       "    <tr style=\"text-align: right;\">\n",
       "      <th></th>\n",
       "      <th>id</th>\n",
       "      <th>popularity</th>\n",
       "      <th>budget</th>\n",
       "      <th>revenue</th>\n",
       "      <th>runtime</th>\n",
       "      <th>vote_count</th>\n",
       "      <th>vote_average</th>\n",
       "      <th>release_year</th>\n",
       "      <th>budget_adj</th>\n",
       "      <th>revenue_adj</th>\n",
       "    </tr>\n",
       "  </thead>\n",
       "  <tbody>\n",
       "    <tr>\n",
       "      <th>count</th>\n",
       "      <td>10866.000000</td>\n",
       "      <td>10866.000000</td>\n",
       "      <td>1.086600e+04</td>\n",
       "      <td>1.086600e+04</td>\n",
       "      <td>10866.000000</td>\n",
       "      <td>10866.000000</td>\n",
       "      <td>10866.000000</td>\n",
       "      <td>10866.000000</td>\n",
       "      <td>1.086600e+04</td>\n",
       "      <td>1.086600e+04</td>\n",
       "    </tr>\n",
       "    <tr>\n",
       "      <th>mean</th>\n",
       "      <td>66064.177434</td>\n",
       "      <td>0.646441</td>\n",
       "      <td>1.462570e+07</td>\n",
       "      <td>3.982332e+07</td>\n",
       "      <td>102.070863</td>\n",
       "      <td>217.389748</td>\n",
       "      <td>5.974922</td>\n",
       "      <td>2001.322658</td>\n",
       "      <td>1.755104e+07</td>\n",
       "      <td>5.136436e+07</td>\n",
       "    </tr>\n",
       "    <tr>\n",
       "      <th>std</th>\n",
       "      <td>92130.136561</td>\n",
       "      <td>1.000185</td>\n",
       "      <td>3.091321e+07</td>\n",
       "      <td>1.170035e+08</td>\n",
       "      <td>31.381405</td>\n",
       "      <td>575.619058</td>\n",
       "      <td>0.935142</td>\n",
       "      <td>12.812941</td>\n",
       "      <td>3.430616e+07</td>\n",
       "      <td>1.446325e+08</td>\n",
       "    </tr>\n",
       "    <tr>\n",
       "      <th>min</th>\n",
       "      <td>5.000000</td>\n",
       "      <td>0.000065</td>\n",
       "      <td>0.000000e+00</td>\n",
       "      <td>0.000000e+00</td>\n",
       "      <td>0.000000</td>\n",
       "      <td>10.000000</td>\n",
       "      <td>1.500000</td>\n",
       "      <td>1960.000000</td>\n",
       "      <td>0.000000e+00</td>\n",
       "      <td>0.000000e+00</td>\n",
       "    </tr>\n",
       "    <tr>\n",
       "      <th>25%</th>\n",
       "      <td>10596.250000</td>\n",
       "      <td>0.207583</td>\n",
       "      <td>0.000000e+00</td>\n",
       "      <td>0.000000e+00</td>\n",
       "      <td>90.000000</td>\n",
       "      <td>17.000000</td>\n",
       "      <td>5.400000</td>\n",
       "      <td>1995.000000</td>\n",
       "      <td>0.000000e+00</td>\n",
       "      <td>0.000000e+00</td>\n",
       "    </tr>\n",
       "    <tr>\n",
       "      <th>50%</th>\n",
       "      <td>20669.000000</td>\n",
       "      <td>0.383856</td>\n",
       "      <td>0.000000e+00</td>\n",
       "      <td>0.000000e+00</td>\n",
       "      <td>99.000000</td>\n",
       "      <td>38.000000</td>\n",
       "      <td>6.000000</td>\n",
       "      <td>2006.000000</td>\n",
       "      <td>0.000000e+00</td>\n",
       "      <td>0.000000e+00</td>\n",
       "    </tr>\n",
       "    <tr>\n",
       "      <th>75%</th>\n",
       "      <td>75610.000000</td>\n",
       "      <td>0.713817</td>\n",
       "      <td>1.500000e+07</td>\n",
       "      <td>2.400000e+07</td>\n",
       "      <td>111.000000</td>\n",
       "      <td>145.750000</td>\n",
       "      <td>6.600000</td>\n",
       "      <td>2011.000000</td>\n",
       "      <td>2.085325e+07</td>\n",
       "      <td>3.369710e+07</td>\n",
       "    </tr>\n",
       "    <tr>\n",
       "      <th>max</th>\n",
       "      <td>417859.000000</td>\n",
       "      <td>32.985763</td>\n",
       "      <td>4.250000e+08</td>\n",
       "      <td>2.781506e+09</td>\n",
       "      <td>900.000000</td>\n",
       "      <td>9767.000000</td>\n",
       "      <td>9.200000</td>\n",
       "      <td>2015.000000</td>\n",
       "      <td>4.250000e+08</td>\n",
       "      <td>2.827124e+09</td>\n",
       "    </tr>\n",
       "  </tbody>\n",
       "</table>\n",
       "</div>"
      ],
      "text/plain": [
       "                  id    popularity        budget       revenue       runtime  \\\n",
       "count   10866.000000  10866.000000  1.086600e+04  1.086600e+04  10866.000000   \n",
       "mean    66064.177434      0.646441  1.462570e+07  3.982332e+07    102.070863   \n",
       "std     92130.136561      1.000185  3.091321e+07  1.170035e+08     31.381405   \n",
       "min         5.000000      0.000065  0.000000e+00  0.000000e+00      0.000000   \n",
       "25%     10596.250000      0.207583  0.000000e+00  0.000000e+00     90.000000   \n",
       "50%     20669.000000      0.383856  0.000000e+00  0.000000e+00     99.000000   \n",
       "75%     75610.000000      0.713817  1.500000e+07  2.400000e+07    111.000000   \n",
       "max    417859.000000     32.985763  4.250000e+08  2.781506e+09    900.000000   \n",
       "\n",
       "         vote_count  vote_average  release_year    budget_adj   revenue_adj  \n",
       "count  10866.000000  10866.000000  10866.000000  1.086600e+04  1.086600e+04  \n",
       "mean     217.389748      5.974922   2001.322658  1.755104e+07  5.136436e+07  \n",
       "std      575.619058      0.935142     12.812941  3.430616e+07  1.446325e+08  \n",
       "min       10.000000      1.500000   1960.000000  0.000000e+00  0.000000e+00  \n",
       "25%       17.000000      5.400000   1995.000000  0.000000e+00  0.000000e+00  \n",
       "50%       38.000000      6.000000   2006.000000  0.000000e+00  0.000000e+00  \n",
       "75%      145.750000      6.600000   2011.000000  2.085325e+07  3.369710e+07  \n",
       "max     9767.000000      9.200000   2015.000000  4.250000e+08  2.827124e+09  "
      ]
     },
     "execution_count": 3,
     "metadata": {},
     "output_type": "execute_result"
    }
   ],
   "source": [
    "df.describe()"
   ]
  },
  {
   "cell_type": "markdown",
   "metadata": {},
   "source": [
    ">Looking at the table above it seems like the columns popularity, budget, and revenue have a 0 value in more than half the rows. Therefore, since there are too many 0 values in these columns and to get a better visualization of the data these rows will be treated as missing values and will be dropped."
   ]
  },
  {
   "cell_type": "code",
   "execution_count": 4,
   "metadata": {},
   "outputs": [
    {
     "name": "stdout",
     "output_type": "stream",
     "text": [
      "Number of duplicated rows: 1\n",
      "id                         0\n",
      "imdb_id                   10\n",
      "popularity                 0\n",
      "budget                     0\n",
      "revenue                    0\n",
      "original_title             0\n",
      "cast                      76\n",
      "homepage                7930\n",
      "director                  44\n",
      "tagline                 2824\n",
      "keywords                1493\n",
      "overview                   4\n",
      "runtime                    0\n",
      "genres                    23\n",
      "production_companies    1030\n",
      "release_date               0\n",
      "vote_count                 0\n",
      "vote_average               0\n",
      "release_year               0\n",
      "budget_adj                 0\n",
      "revenue_adj                0\n",
      "dtype: int64\n"
     ]
    },
    {
     "data": {
      "text/plain": [
       "(10866, 21)"
      ]
     },
     "execution_count": 4,
     "metadata": {},
     "output_type": "execute_result"
    }
   ],
   "source": [
    "# Getting the number of duplicated rows\n",
    "print(\"Number of duplicated rows:\", sum(df.duplicated()))\n",
    "# Getting the number of rows with missing values for each column\n",
    "print(df.isna().sum())\n",
    "df.shape"
   ]
  },
  {
   "cell_type": "markdown",
   "metadata": {},
   "source": [
    ">The dataset was checked for any duplicate rows or rows with missing values and the output above shows that there is one duplicated row and a maximum of 7930 rows with missing values out of 10866 rows. The columns with the most missing values are homepage, tagline, keywords, and production companies and due to the lack of data in those columns they will be dropped."
   ]
  },
  {
   "cell_type": "markdown",
   "metadata": {},
   "source": [
    "<a id='cleaning'></a>\n",
    "### Data Cleaning"
   ]
  },
  {
   "cell_type": "code",
   "execution_count": 5,
   "metadata": {},
   "outputs": [],
   "source": [
    "# Drop columns that aren't used for this analysis\n",
    "df.drop(['id', 'imdb_id', 'homepage', 'director', 'tagline', 'cast', 'keywords', 'overview', 'production_companies'], axis=1, inplace=True)\n",
    "# Drop duplicated rows\n",
    "df.drop_duplicates(inplace=True)\n",
    "# Drop rows with missing values\n",
    "df.dropna(axis=0, inplace=True)\n",
    "# Drop rows with a value of 0 in the three columns: popularity, budget, and revenue\n",
    "df = df[df.popularity != 0]\n",
    "df = df[df.budget != 0]\n",
    "df = df[df.revenue != 0]"
   ]
  },
  {
   "cell_type": "code",
   "execution_count": 6,
   "metadata": {},
   "outputs": [
    {
     "data": {
      "text/html": [
       "<div>\n",
       "<style scoped>\n",
       "    .dataframe tbody tr th:only-of-type {\n",
       "        vertical-align: middle;\n",
       "    }\n",
       "\n",
       "    .dataframe tbody tr th {\n",
       "        vertical-align: top;\n",
       "    }\n",
       "\n",
       "    .dataframe thead th {\n",
       "        text-align: right;\n",
       "    }\n",
       "</style>\n",
       "<table border=\"1\" class=\"dataframe\">\n",
       "  <thead>\n",
       "    <tr style=\"text-align: right;\">\n",
       "      <th></th>\n",
       "      <th>popularity</th>\n",
       "      <th>budget</th>\n",
       "      <th>revenue</th>\n",
       "      <th>original_title</th>\n",
       "      <th>runtime</th>\n",
       "      <th>genres</th>\n",
       "      <th>release_date</th>\n",
       "      <th>vote_count</th>\n",
       "      <th>vote_average</th>\n",
       "      <th>release_year</th>\n",
       "      <th>budget_adj</th>\n",
       "      <th>revenue_adj</th>\n",
       "    </tr>\n",
       "  </thead>\n",
       "  <tbody>\n",
       "    <tr>\n",
       "      <th>0</th>\n",
       "      <td>32.985763</td>\n",
       "      <td>150000000</td>\n",
       "      <td>1513528810</td>\n",
       "      <td>Jurassic World</td>\n",
       "      <td>124</td>\n",
       "      <td>Action|Adventure|Science Fiction|Thriller</td>\n",
       "      <td>6/9/15</td>\n",
       "      <td>5562</td>\n",
       "      <td>6.5</td>\n",
       "      <td>2015</td>\n",
       "      <td>1.379999e+08</td>\n",
       "      <td>1.392446e+09</td>\n",
       "    </tr>\n",
       "    <tr>\n",
       "      <th>1</th>\n",
       "      <td>28.419936</td>\n",
       "      <td>150000000</td>\n",
       "      <td>378436354</td>\n",
       "      <td>Mad Max: Fury Road</td>\n",
       "      <td>120</td>\n",
       "      <td>Action|Adventure|Science Fiction|Thriller</td>\n",
       "      <td>5/13/15</td>\n",
       "      <td>6185</td>\n",
       "      <td>7.1</td>\n",
       "      <td>2015</td>\n",
       "      <td>1.379999e+08</td>\n",
       "      <td>3.481613e+08</td>\n",
       "    </tr>\n",
       "    <tr>\n",
       "      <th>2</th>\n",
       "      <td>13.112507</td>\n",
       "      <td>110000000</td>\n",
       "      <td>295238201</td>\n",
       "      <td>Insurgent</td>\n",
       "      <td>119</td>\n",
       "      <td>Adventure|Science Fiction|Thriller</td>\n",
       "      <td>3/18/15</td>\n",
       "      <td>2480</td>\n",
       "      <td>6.3</td>\n",
       "      <td>2015</td>\n",
       "      <td>1.012000e+08</td>\n",
       "      <td>2.716190e+08</td>\n",
       "    </tr>\n",
       "    <tr>\n",
       "      <th>3</th>\n",
       "      <td>11.173104</td>\n",
       "      <td>200000000</td>\n",
       "      <td>2068178225</td>\n",
       "      <td>Star Wars: The Force Awakens</td>\n",
       "      <td>136</td>\n",
       "      <td>Action|Adventure|Science Fiction|Fantasy</td>\n",
       "      <td>12/15/15</td>\n",
       "      <td>5292</td>\n",
       "      <td>7.5</td>\n",
       "      <td>2015</td>\n",
       "      <td>1.839999e+08</td>\n",
       "      <td>1.902723e+09</td>\n",
       "    </tr>\n",
       "    <tr>\n",
       "      <th>4</th>\n",
       "      <td>9.335014</td>\n",
       "      <td>190000000</td>\n",
       "      <td>1506249360</td>\n",
       "      <td>Furious 7</td>\n",
       "      <td>137</td>\n",
       "      <td>Action|Crime|Thriller</td>\n",
       "      <td>4/1/15</td>\n",
       "      <td>2947</td>\n",
       "      <td>7.3</td>\n",
       "      <td>2015</td>\n",
       "      <td>1.747999e+08</td>\n",
       "      <td>1.385749e+09</td>\n",
       "    </tr>\n",
       "  </tbody>\n",
       "</table>\n",
       "</div>"
      ],
      "text/plain": [
       "   popularity     budget     revenue                original_title  runtime  \\\n",
       "0   32.985763  150000000  1513528810                Jurassic World      124   \n",
       "1   28.419936  150000000   378436354            Mad Max: Fury Road      120   \n",
       "2   13.112507  110000000   295238201                     Insurgent      119   \n",
       "3   11.173104  200000000  2068178225  Star Wars: The Force Awakens      136   \n",
       "4    9.335014  190000000  1506249360                     Furious 7      137   \n",
       "\n",
       "                                      genres release_date  vote_count  \\\n",
       "0  Action|Adventure|Science Fiction|Thriller       6/9/15        5562   \n",
       "1  Action|Adventure|Science Fiction|Thriller      5/13/15        6185   \n",
       "2         Adventure|Science Fiction|Thriller      3/18/15        2480   \n",
       "3   Action|Adventure|Science Fiction|Fantasy     12/15/15        5292   \n",
       "4                      Action|Crime|Thriller       4/1/15        2947   \n",
       "\n",
       "   vote_average  release_year    budget_adj   revenue_adj  \n",
       "0           6.5          2015  1.379999e+08  1.392446e+09  \n",
       "1           7.1          2015  1.379999e+08  3.481613e+08  \n",
       "2           6.3          2015  1.012000e+08  2.716190e+08  \n",
       "3           7.5          2015  1.839999e+08  1.902723e+09  \n",
       "4           7.3          2015  1.747999e+08  1.385749e+09  "
      ]
     },
     "execution_count": 6,
     "metadata": {},
     "output_type": "execute_result"
    }
   ],
   "source": [
    "# Checking the result of performing the data cleaning operations\n",
    "df.head()"
   ]
  },
  {
   "cell_type": "markdown",
   "metadata": {},
   "source": [
    ">Since the id, imdb id, homepage, director, tagline, cast, keywords, overview, and production companies columns are not related to the questions this analysis tries to answer they are dropped from the dataset. Moreover, duplicated rows and rows with missing values or values of 0 in either the popularity column, revernue column, or budget column are dropped."
   ]
  },
  {
   "cell_type": "code",
   "execution_count": 7,
   "metadata": {},
   "outputs": [
    {
     "data": {
      "text/html": [
       "<div>\n",
       "<style scoped>\n",
       "    .dataframe tbody tr th:only-of-type {\n",
       "        vertical-align: middle;\n",
       "    }\n",
       "\n",
       "    .dataframe tbody tr th {\n",
       "        vertical-align: top;\n",
       "    }\n",
       "\n",
       "    .dataframe thead th {\n",
       "        text-align: right;\n",
       "    }\n",
       "</style>\n",
       "<table border=\"1\" class=\"dataframe\">\n",
       "  <thead>\n",
       "    <tr style=\"text-align: right;\">\n",
       "      <th></th>\n",
       "      <th>popularity</th>\n",
       "      <th>budget</th>\n",
       "      <th>revenue</th>\n",
       "      <th>runtime</th>\n",
       "      <th>vote_count</th>\n",
       "      <th>vote_average</th>\n",
       "      <th>release_year</th>\n",
       "      <th>budget_adj</th>\n",
       "      <th>revenue_adj</th>\n",
       "    </tr>\n",
       "  </thead>\n",
       "  <tbody>\n",
       "    <tr>\n",
       "      <th>count</th>\n",
       "      <td>3854.000000</td>\n",
       "      <td>3.854000e+03</td>\n",
       "      <td>3.854000e+03</td>\n",
       "      <td>3854.000000</td>\n",
       "      <td>3854.000000</td>\n",
       "      <td>3854.000000</td>\n",
       "      <td>3854.000000</td>\n",
       "      <td>3.854000e+03</td>\n",
       "      <td>3.854000e+03</td>\n",
       "    </tr>\n",
       "    <tr>\n",
       "      <th>mean</th>\n",
       "      <td>1.191554</td>\n",
       "      <td>3.720370e+07</td>\n",
       "      <td>1.076866e+08</td>\n",
       "      <td>109.220291</td>\n",
       "      <td>527.720291</td>\n",
       "      <td>6.168163</td>\n",
       "      <td>2001.261028</td>\n",
       "      <td>4.423999e+07</td>\n",
       "      <td>1.370647e+08</td>\n",
       "    </tr>\n",
       "    <tr>\n",
       "      <th>std</th>\n",
       "      <td>1.475162</td>\n",
       "      <td>4.220822e+07</td>\n",
       "      <td>1.765393e+08</td>\n",
       "      <td>19.922820</td>\n",
       "      <td>879.956821</td>\n",
       "      <td>0.794920</td>\n",
       "      <td>11.282575</td>\n",
       "      <td>4.480925e+07</td>\n",
       "      <td>2.161114e+08</td>\n",
       "    </tr>\n",
       "    <tr>\n",
       "      <th>min</th>\n",
       "      <td>0.001117</td>\n",
       "      <td>1.000000e+00</td>\n",
       "      <td>2.000000e+00</td>\n",
       "      <td>15.000000</td>\n",
       "      <td>10.000000</td>\n",
       "      <td>2.200000</td>\n",
       "      <td>1960.000000</td>\n",
       "      <td>9.693980e-01</td>\n",
       "      <td>2.370705e+00</td>\n",
       "    </tr>\n",
       "    <tr>\n",
       "      <th>25%</th>\n",
       "      <td>0.462368</td>\n",
       "      <td>1.000000e+07</td>\n",
       "      <td>1.360003e+07</td>\n",
       "      <td>95.000000</td>\n",
       "      <td>71.000000</td>\n",
       "      <td>5.700000</td>\n",
       "      <td>1995.000000</td>\n",
       "      <td>1.309053e+07</td>\n",
       "      <td>1.835735e+07</td>\n",
       "    </tr>\n",
       "    <tr>\n",
       "      <th>50%</th>\n",
       "      <td>0.797511</td>\n",
       "      <td>2.400000e+07</td>\n",
       "      <td>4.480000e+07</td>\n",
       "      <td>106.000000</td>\n",
       "      <td>204.000000</td>\n",
       "      <td>6.200000</td>\n",
       "      <td>2004.000000</td>\n",
       "      <td>3.001611e+07</td>\n",
       "      <td>6.173068e+07</td>\n",
       "    </tr>\n",
       "    <tr>\n",
       "      <th>75%</th>\n",
       "      <td>1.368324</td>\n",
       "      <td>5.000000e+07</td>\n",
       "      <td>1.242125e+08</td>\n",
       "      <td>119.000000</td>\n",
       "      <td>580.000000</td>\n",
       "      <td>6.700000</td>\n",
       "      <td>2010.000000</td>\n",
       "      <td>6.061307e+07</td>\n",
       "      <td>1.632577e+08</td>\n",
       "    </tr>\n",
       "    <tr>\n",
       "      <th>max</th>\n",
       "      <td>32.985763</td>\n",
       "      <td>4.250000e+08</td>\n",
       "      <td>2.781506e+09</td>\n",
       "      <td>338.000000</td>\n",
       "      <td>9767.000000</td>\n",
       "      <td>8.400000</td>\n",
       "      <td>2015.000000</td>\n",
       "      <td>4.250000e+08</td>\n",
       "      <td>2.827124e+09</td>\n",
       "    </tr>\n",
       "  </tbody>\n",
       "</table>\n",
       "</div>"
      ],
      "text/plain": [
       "        popularity        budget       revenue      runtime   vote_count  \\\n",
       "count  3854.000000  3.854000e+03  3.854000e+03  3854.000000  3854.000000   \n",
       "mean      1.191554  3.720370e+07  1.076866e+08   109.220291   527.720291   \n",
       "std       1.475162  4.220822e+07  1.765393e+08    19.922820   879.956821   \n",
       "min       0.001117  1.000000e+00  2.000000e+00    15.000000    10.000000   \n",
       "25%       0.462368  1.000000e+07  1.360003e+07    95.000000    71.000000   \n",
       "50%       0.797511  2.400000e+07  4.480000e+07   106.000000   204.000000   \n",
       "75%       1.368324  5.000000e+07  1.242125e+08   119.000000   580.000000   \n",
       "max      32.985763  4.250000e+08  2.781506e+09   338.000000  9767.000000   \n",
       "\n",
       "       vote_average  release_year    budget_adj   revenue_adj  \n",
       "count   3854.000000   3854.000000  3.854000e+03  3.854000e+03  \n",
       "mean       6.168163   2001.261028  4.423999e+07  1.370647e+08  \n",
       "std        0.794920     11.282575  4.480925e+07  2.161114e+08  \n",
       "min        2.200000   1960.000000  9.693980e-01  2.370705e+00  \n",
       "25%        5.700000   1995.000000  1.309053e+07  1.835735e+07  \n",
       "50%        6.200000   2004.000000  3.001611e+07  6.173068e+07  \n",
       "75%        6.700000   2010.000000  6.061307e+07  1.632577e+08  \n",
       "max        8.400000   2015.000000  4.250000e+08  2.827124e+09  "
      ]
     },
     "execution_count": 7,
     "metadata": {},
     "output_type": "execute_result"
    }
   ],
   "source": [
    "# Checking how the numerical values changed after cleaning the data\n",
    "df.describe()"
   ]
  },
  {
   "cell_type": "markdown",
   "metadata": {},
   "source": [
    "<a id='eda'></a>\n",
    "## Exploratory Data Analysis\n",
    "\n",
    "<a id='question1'></a>\n",
    "### Research Question 1: What properties are associated with popular movies?"
   ]
  },
  {
   "cell_type": "code",
   "execution_count": 8,
   "metadata": {},
   "outputs": [
    {
     "data": {
      "image/png": "[encoded data removed]",
      "text/plain": [
       "<matplotlib.figure.Figure at 0x7f7b731819e8>"
      ]
     },
     "metadata": {
      "needs_background": "light"
     },
     "output_type": "display_data"
    }
   ],
   "source": [
    "plt.hist(df.popularity)\n",
    "plt.title(\"Popularity Histogram\")\n",
    "plt.xlabel(\"Popularity\")\n",
    "plt.ylabel(\"Frequency\");"
   ]
  },
  {
   "cell_type": "markdown",
   "metadata": {},
   "source": [
    ">Looking at the histogram of popularity for the movies, it seems like most movies have a popularity value between 0 and 5, while very few movies have a popularity value of up to 30."
   ]
  },
  {
   "cell_type": "code",
   "execution_count": 9,
   "metadata": {},
   "outputs": [],
   "source": [
    "high_popularity = df.query('popularity >= popularity.mean()')\n",
    "low_popularity = df.query('popularity < popularity.mean()')\n",
    "high_budget = df.query('budget >= budget.mean()')\n",
    "low_budget = df.query('budget < budget.mean()')\n",
    "\n",
    "# A function that will plot a bar graph with tick labels, title, x axis label, and y axis label.\n",
    "def plotbar(high, low, high_label, low_label, title, x, y):\n",
    "    plt.bar([1, 2], [high.mean(), low.mean()], tick_label=[high_label, low_label])\n",
    "    plt.title(title)\n",
    "    plt.xlabel(x)\n",
    "    plt.ylabel(y);"
   ]
  },
  {
   "cell_type": "markdown",
   "metadata": {},
   "source": [
    ">The data is divided into two groups by the median of popularity once and again by the median of budget to compare between high popularity movies, low popularity movies, high budget movies, and low budget movies with other properties and a function called \"plotbar\" was defined to easily create bar graphs with labels and a title."
   ]
  },
  {
   "cell_type": "code",
   "execution_count": 10,
   "metadata": {},
   "outputs": [
    {
     "data": {
      "image/png": "[encoded data removed]",
      "text/plain": [
       "<matplotlib.figure.Figure at 0x7f7b743add68>"
      ]
     },
     "metadata": {
      "needs_background": "light"
     },
     "output_type": "display_data"
    }
   ],
   "source": [
    "plotbar(high_popularity['revenue'], low_popularity['revenue'], 'High Popularity', 'Low Popularity', 'Revenue by Popularity', 'Popularity', 'Revenue')"
   ]
  },
  {
   "cell_type": "markdown",
   "metadata": {},
   "source": [
    ">First, I am looking into the relationship of popularity and revenue using a bar chart and according to the bar chart above popular movies have a higher revenue than movies with low popularity."
   ]
  },
  {
   "cell_type": "code",
   "execution_count": 11,
   "metadata": {},
   "outputs": [
    {
     "data": {
      "image/png": "[encoded data removed]",
      "text/plain": [
       "<matplotlib.figure.Figure at 0x7f7b7547aef0>"
      ]
     },
     "metadata": {
      "needs_background": "light"
     },
     "output_type": "display_data"
    }
   ],
   "source": [
    "plotbar(high_budget['popularity'], low_budget['popularity'], 'High Budget', 'Low Budget', 'Popularity by Budget', 'Popularity', 'Budget')"
   ]
  },
  {
   "cell_type": "markdown",
   "metadata": {},
   "source": [
    ">Also, according to the graph above movies with high budget have a higher popularity than movies with a lower budget."
   ]
  },
  {
   "cell_type": "markdown",
   "metadata": {},
   "source": [
    "## <a id='question2'></a>\n",
    "### Research Question 2: Do movies with a higher budget receive better vote average?"
   ]
  },
  {
   "cell_type": "code",
   "execution_count": 12,
   "metadata": {},
   "outputs": [
    {
     "data": {
      "image/png": "[encoded data removed]",
      "text/plain": [
       "<matplotlib.figure.Figure at 0x7f7b74623908>"
      ]
     },
     "metadata": {
      "needs_background": "light"
     },
     "output_type": "display_data"
    }
   ],
   "source": [
    "plotbar(high_budget['vote_average'], low_budget['vote_average'], 'High Budget', 'Low Budget', 'Vote Average by Budget', 'Budget', 'Vote Average')"
   ]
  },
  {
   "cell_type": "markdown",
   "metadata": {},
   "source": [
    ">In this section the budget and vote average are being investigated to see if a higher budget results in a higher vote average and in order to do that I have decided to divide the data into two groups by the median of the budget, one for movies with a high budget and another for movies with a low budget and then creating a bar chart to see how they compare to each other. In the bar chart above it seems like both groups have about the same vote average."
   ]
  },
  {
   "cell_type": "code",
   "execution_count": 13,
   "metadata": {},
   "outputs": [
    {
     "data": {
      "image/png": "[encoded data removed]",
      "text/plain": [
       "<matplotlib.figure.Figure at 0x7f7b75397470>"
      ]
     },
     "metadata": {
      "needs_background": "light"
     },
     "output_type": "display_data"
    }
   ],
   "source": [
    "plotbar(high_budget['vote_count'], low_budget['vote_count'], 'High Budget', 'Low Budget', 'Vote Count by Budget', 'Budget', 'Vote Count')"
   ]
  },
  {
   "cell_type": "markdown",
   "metadata": {},
   "source": [
    ">However, in the graph above movies with a low budget have a lower vote count than movies with a high budget."
   ]
  },
  {
   "cell_type": "markdown",
   "metadata": {},
   "source": [
    "<a id='question3'></a>\n",
    "### Research Question 3: Do movies with a lower budget receive lower revenue?"
   ]
  },
  {
   "cell_type": "code",
   "execution_count": null,
   "metadata": {},
   "outputs": [],
   "source": [
    "plotbar(high_budget['revenue'], low_budget['revenue'], 'High Budget', 'Low Budget', 'Revenue by Budget', 'Budget', 'Revenue')"
   ]
  },
  {
   "cell_type": "markdown",
   "metadata": {},
   "source": [
    ">According to the graph above movies with a high budget have a higher revenue than movies with a lower budget."
   ]
  },
  {
   "cell_type": "markdown",
   "metadata": {},
   "source": [
    "<a id='conclusions'></a>\n",
    "## Conclusions\n",
    ">In conclusion, movies with high popularity have a higher revenue and higher budget than movies with a low popularity, and movies with a high budget have a high revenue, but even though movies with a low budget have lower vote count they still have a vote average close to movies with a high budget. Note that the dataset was not explored to its fullest, maybe genres contribute to the popularity of a movie, or the cast contributes to the revenue of the movie."
   ]
  },
  {
   "cell_type": "markdown",
   "metadata": {},
   "source": [
    "### Limitations\n",
    ">The dataset used in this analysis had more than 50% rows with 0 values in three columns: popularity, revenue, and budget, which affected the accuracy of the graphs because when the bar charts were graphed the bars had a height of 0. Therefore, I had to drop those rows and treat them as missing data to get better visualization of the data."
   ]
  },
  {
   "cell_type": "code",
   "execution_count": null,
   "metadata": {},
   "outputs": [],
   "source": [
    "from subprocess import call\n",
    "call(['python', '-m', 'nbconvert', 'Investigate_a_Dataset.ipynb'])"
   ]
  }
 ],
 "metadata": {
  "kernelspec": {
   "display_name": "Python 3",
   "language": "python",
   "name": "python3"
  },
  "language_info": {
   "codemirror_mode": {
    "name": "ipython",
    "version": 3
   },
   "file_extension": ".py",
   "mimetype": "text/x-python",
   "name": "python",
   "nbconvert_exporter": "python",
   "pygments_lexer": "ipython3",
   "version": "3.6.3"
  }
 },
 "nbformat": 4,
 "nbformat_minor": 2
}
